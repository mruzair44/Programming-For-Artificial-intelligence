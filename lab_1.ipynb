{
  "nbformat": 4,
  "nbformat_minor": 0,
  "metadata": {
    "colab": {
      "provenance": [],
      "authorship_tag": "ABX9TyMOBgavp7BTPo/UV5/5apnl",
      "include_colab_link": true
    },
    "kernelspec": {
      "name": "python3",
      "display_name": "Python 3"
    },
    "language_info": {
      "name": "python"
    }
  },
  "cells": [
    {
      "cell_type": "markdown",
      "metadata": {
        "id": "view-in-github",
        "colab_type": "text"
      },
      "source": [
        "<a href=\"https://colab.research.google.com/github/mruzair44/Programming-For-Artificial-intelligence/blob/main/lab_1.ipynb\" target=\"_parent\"><img src=\"https://colab.research.google.com/assets/colab-badge.svg\" alt=\"Open In Colab\"/></a>"
      ]
    },
    {
      "cell_type": "markdown",
      "source": [
        "1.\tDifferentiate  between assignment operator and equality operator"
      ],
      "metadata": {
        "id": "nu1vjFsd50ss"
      }
    },
    {
      "cell_type": "code",
      "source": [
        "a=10\n",
        "b=10\n",
        "\n",
        "if a == b:\n",
        "    print(\"a is equal to b\\n\")\n",
        "else:\n",
        "    print(\"a and b are not equal\\n\");\n"
      ],
      "metadata": {
        "colab": {
          "base_uri": "https://localhost:8080/"
        },
        "id": "SJgBIoxD7TXA",
        "outputId": "0f0aa2d2-d24a-4fc3-a8eb-0e9bdaac3690"
      },
      "execution_count": null,
      "outputs": [
        {
          "output_type": "stream",
          "name": "stdout",
          "text": [
            "a is equal to b\n",
            "\n"
          ]
        }
      ]
    },
    {
      "cell_type": "markdown",
      "source": [
        "2.\tExplore all kinds /data types of variables. And  write code for each datatype.\n",
        "                                                  # Integer variable\n",
        "                                                  # Floating-point variable\n",
        "                                                  # String variable\n",
        "                                                   # Boolean variable\n"
      ],
      "metadata": {
        "id": "S-CCXw6P8fFZ"
      }
    },
    {
      "cell_type": "code",
      "source": [
        "# Integer variable\n",
        "age = 20\n",
        "print(\"My age is\", age)\n"
      ],
      "metadata": {
        "colab": {
          "base_uri": "https://localhost:8080/"
        },
        "id": "fMvafpJa8kNQ",
        "outputId": "0c73303e-9c7e-4140-f973-8e34fd3e8b0c"
      },
      "execution_count": null,
      "outputs": [
        {
          "output_type": "stream",
          "name": "stdout",
          "text": [
            "My age is 20\n"
          ]
        }
      ]
    },
    {
      "cell_type": "code",
      "source": [
        "# Floating-point variable\n",
        "pi = 3.14159\n",
        "print(\"The value of pi is approximately\", pi)\n"
      ],
      "metadata": {
        "colab": {
          "base_uri": "https://localhost:8080/"
        },
        "id": "ukhzbPNw8x-G",
        "outputId": "4218d863-5a91-4eba-c2c5-9441f8053de2"
      },
      "execution_count": null,
      "outputs": [
        {
          "output_type": "stream",
          "name": "stdout",
          "text": [
            "The value of pi is approximately 3.14159\n"
          ]
        }
      ]
    },
    {
      "cell_type": "code",
      "source": [
        "# String variable\n",
        "name = \"Alice\"\n",
        "print(\"Hello,\", name)\n"
      ],
      "metadata": {
        "colab": {
          "base_uri": "https://localhost:8080/"
        },
        "id": "MWhQX03U83ll",
        "outputId": "3e0bf81a-4837-45ae-c8e1-0f067cf7aabf"
      },
      "execution_count": null,
      "outputs": [
        {
          "output_type": "stream",
          "name": "stdout",
          "text": [
            "Hello, Alice\n"
          ]
        }
      ]
    },
    {
      "cell_type": "code",
      "source": [
        "# Boolean variable\n",
        "is_sunny = True\n",
        "print(\"Is it sunny today?\", is_sunny)\n"
      ],
      "metadata": {
        "colab": {
          "base_uri": "https://localhost:8080/"
        },
        "id": "rUjD8PhN8_JS",
        "outputId": "b0fc688a-73f0-4358-df51-f0b41f218a8e"
      },
      "execution_count": null,
      "outputs": [
        {
          "output_type": "stream",
          "name": "stdout",
          "text": [
            "Is it sunny today? True\n"
          ]
        }
      ]
    },
    {
      "cell_type": "markdown",
      "source": [
        "3.\tExplain the rules for variables name and use different variables name including special characters , numbers etc\n"
      ],
      "metadata": {
        "id": "2-H5ktFP9C4R"
      }
    },
    {
      "cell_type": "markdown",
      "source": [
        "Start with a Letter, Dollar Sign, or Underscore: Variable names must begin with a letter (uppercase or lowercase), a dollar sign ($), or an underscore (_). Avoid starting with a digit, period, or dash.\n",
        "\n",
        "Avoid Reserved Words: Do not use reserved words or keywords as variable names. These words have specific meanings in the programming language and should not be redefined.\n",
        "**bold text**\n",
        "Case Sensitivity: Variable names are case-sensitive. For example, myVariable and myvariable are considered different variables.\n",
        "\n",
        "Choose a Consistent Naming Convention: Stick to a consistent naming convention throughout your code, such as camelCase or snake_case.\n",
        "\n",
        "Descriptive and Meaningful Names: Use variable names that describe the value they hold, improving code readability. For instance, instead of using generic names like n, opt for descriptive ones like userName, firstName, or lastName.\n",
        "\n",
        "Use camelCase or snake_case: For multi-word variable names, opt for either camelCase (capitalize the first letter of each word except the first one) or snake_case (use underscores to separate words)."
      ],
      "metadata": {
        "id": "y_iQRtrp-dzi"
      }
    },
    {
      "cell_type": "code",
      "source": [
        "user_name = \"Alice\"\n",
        "age = 20\n",
        "is_sunny = True\n",
        "\n",
        "print(\"User Name:\", user_name)\n",
        "print(\"Age:\", age)\n",
        "print(\"Is it today Sunny:\", is_sunny)\n"
      ],
      "metadata": {
        "colab": {
          "base_uri": "https://localhost:8080/"
        },
        "id": "0IYsc7Cj-gXP",
        "outputId": "40587662-24a1-4f89-c27e-a6c352d11b15"
      },
      "execution_count": null,
      "outputs": [
        {
          "output_type": "stream",
          "name": "stdout",
          "text": [
            "User Name: Alice\n",
            "Age: 20\n",
            "Is it today Sunny: True\n"
          ]
        }
      ]
    },
    {
      "cell_type": "markdown",
      "source": [
        "4.\tDeclare and initialize multiple variables in a single line . Single variable with multiple values , multiple variables with single values. Each having at least two examples"
      ],
      "metadata": {
        "id": "Po6rE2w8_KMS"
      }
    },
    {
      "cell_type": "code",
      "source": [
        "# Assigning multiple values to a single variable\n",
        "x, y, z = 10, 20, 30\n",
        "# Defining multiple variables in a single line\n",
        "a, b, c = 1, 2, 3\n",
        "# Assigning a single value to multiple variables\n",
        "x = y = z = 10\n",
        "\n",
        "\n",
        "\n"
      ],
      "metadata": {
        "id": "TXarm2cU_Rke"
      },
      "execution_count": null,
      "outputs": []
    },
    {
      "cell_type": "markdown",
      "source": [
        "5.    Perform arithmetic operations on integers and floating-point numbers\n",
        "                                         # Adding, Subtracting, Multiplication and dividing two integer variables\n",
        "                            # Adding, Subtracting, Multiplication and dividing  floating-point variables\n"
      ],
      "metadata": {
        "id": "J1I6o3ZVAsEg"
      }
    },
    {
      "cell_type": "code",
      "source": [
        "# Integer Operations\n",
        "a = 5\n",
        "b = 3\n",
        "\n",
        "# Adding Integers\n",
        "sum_integers = a + b\n",
        "print(f\"Sum of integers: {sum_integers}\")\n",
        "\n",
        "# Subtracting Integers\n",
        "difference_integers = a - b\n",
        "print(f\"Difference of integers: {difference_integers}\")\n",
        "\n",
        "# Multiplying Integers\n",
        "product_integers = a * b\n",
        "print(f\"Product of integers: {product_integers}\")\n",
        "\n",
        "# Dividing Integers (result as a float)\n",
        "quotient_integers = a / b\n",
        "print(f\"Quotient of integers: {quotient_integers:.2f}\")\n",
        "\n",
        "# Floating-Point Operations\n",
        "x = 7.5\n",
        "y = 2.5\n",
        "\n",
        "# Adding Floating-Point Numbers\n",
        "sum_floats = x + y\n",
        "print(f\"Sum of floating-point numbers: {sum_floats:.2f}\")\n",
        "\n",
        "# Subtracting Floating-Point Numbers\n",
        "difference_floats = x - y\n",
        "print(f\"Difference of floating-point numbers: {difference_floats:.2f}\")\n",
        "\n",
        "# Multiplying Floating-Point Numbers\n",
        "product_floats = x * y\n",
        "print(f\"Product of floating-point numbers: {product_floats:.2f}\")\n",
        "\n",
        "# Dividing Floating-Point Numbers\n",
        "quotient_floats = x / y\n",
        "print(f\"Quotient of floating-point numbers: {quotient_floats:.2f}\")\n"
      ],
      "metadata": {
        "colab": {
          "base_uri": "https://localhost:8080/"
        },
        "id": "oQ6uvNRiAyez",
        "outputId": "e46a262f-de7d-47b3-9151-7e383d52cb69"
      },
      "execution_count": null,
      "outputs": [
        {
          "output_type": "stream",
          "name": "stdout",
          "text": [
            "Sum of integers: 8\n",
            "Difference of integers: 2\n",
            "Product of integers: 15\n",
            "Quotient of integers: 1.67\n",
            "Sum of floating-point numbers: 10.00\n",
            "Difference of floating-point numbers: 5.00\n",
            "Product of floating-point numbers: 18.75\n",
            "Quotient of floating-point numbers: 3.00\n"
          ]
        }
      ]
    },
    {
      "cell_type": "markdown",
      "source": [
        "6.\tA string literal is a sequence of characters enclosed in quotes. In Python, we can use either single quotes (‘…’) or double quotes (“…”) to create a string.\n",
        "                             # Using single quotes\n",
        "                                            # Using double quotes\n",
        "                                           # Using double quotes when the string contains a single quote\n",
        "                                           # Using single quotes when the string contains double quotes\n"
      ],
      "metadata": {
        "id": "jSH_9oP_BjUi"
      }
    },
    {
      "cell_type": "code",
      "source": [
        "single_quoted_string = 'Hello, World!'\n",
        "print(single_quoted_string)\n",
        "\n",
        "double_quoted_string = \"Python is fun!\"\n",
        "print(double_quoted_string)\n",
        "\n",
        "with_single_quote = \"I'm learning Python.\"\n",
        "print(with_single_quote)\n",
        "\n",
        "with_double_quotes = 'He said, \"Hello!\"'\n",
        "print(with_double_quotes)\n"
      ],
      "metadata": {
        "colab": {
          "base_uri": "https://localhost:8080/"
        },
        "id": "g2vAVYQCBqMq",
        "outputId": "57e6d484-af44-4797-cbf0-aa3b6a8073f0"
      },
      "execution_count": null,
      "outputs": [
        {
          "output_type": "stream",
          "name": "stdout",
          "text": [
            "Hello, World!\n",
            "Python is fun!\n",
            "I'm learning Python.\n",
            "He said, \"Hello!\"\n"
          ]
        }
      ]
    },
    {
      "cell_type": "markdown",
      "source": [
        "7.\tThe print() function is a built-in function in Python that allows you to output variables and other data to the console.\n",
        "                       # Example of using the print() function to output a variable\n",
        "                       # Example of outputting multiple variables with print()\n",
        "                      # Example of using f-strings to format output\n",
        "                       # Example of using f-strings to manipulate variables in the output\n"
      ],
      "metadata": {
        "id": "1i4sD54HCBxZ"
      }
    },
    {
      "cell_type": "code",
      "source": [
        "my_variable = 42\n",
        "print(\"The value of my_variable is:\", my_variable)\n",
        "\n",
        "name = \"Alice\"\n",
        "age = 30\n",
        "print(\"Name:\", name, \"Age:\", age)\n",
        "\n",
        "item = \"apple\"\n",
        "quantity = 5\n",
        "print(f\"I have {quantity} {item}s.\")\n",
        "\n",
        "price = 2.99\n",
        "quantity = 10\n",
        "total_cost = price * quantity\n",
        "print(f\"Total cost for {quantity} items: ${total_cost:.2f}\")\n",
        "\n"
      ],
      "metadata": {
        "colab": {
          "base_uri": "https://localhost:8080/"
        },
        "id": "zHYLrb2fCFtk",
        "outputId": "2aa9bb80-dc3b-4423-86da-58db1c6272de"
      },
      "execution_count": null,
      "outputs": [
        {
          "output_type": "stream",
          "name": "stdout",
          "text": [
            "The value of my_variable is: 42\n",
            "Name: Alice Age: 30\n",
            "I have 5 apples.\n",
            "Total cost for 10 items: $29.90\n"
          ]
        }
      ]
    }
  ]
}