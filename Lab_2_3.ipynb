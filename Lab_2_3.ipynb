{
  "nbformat": 4,
  "nbformat_minor": 0,
  "metadata": {
    "colab": {
      "provenance": [],
      "authorship_tag": "ABX9TyPEbDl2s5E02LcZ24WSokDS",
      "include_colab_link": true
    },
    "kernelspec": {
      "name": "python3",
      "display_name": "Python 3"
    },
    "language_info": {
      "name": "python"
    }
  },
  "cells": [
    {
      "cell_type": "markdown",
      "metadata": {
        "id": "view-in-github",
        "colab_type": "text"
      },
      "source": [
        "<a href=\"https://colab.research.google.com/github/mruzair44/Programming-For-Artificial-intelligence/blob/main/Lab_2_3.ipynb\" target=\"_parent\"><img src=\"https://colab.research.google.com/assets/colab-badge.svg\" alt=\"Open In Colab\"/></a>"
      ]
    },
    {
      "cell_type": "markdown",
      "source": [
        "**Lab No: 2-3\n",
        "Topic: Concept of Data Types** **bold text**\n"
      ],
      "metadata": {
        "id": "WaHfMOTy-eCc"
      }
    },
    {
      "cell_type": "markdown",
      "source": [
        "1.\tPrint at least 3 types of data type\n",
        "\n"
      ],
      "metadata": {
        "id": "zq1YPPgv_J-U"
      }
    },
    {
      "cell_type": "code",
      "source": [
        "# Integer 5 example\n",
        "num_1=int(50)\n",
        "num_2=int(25)\n",
        "num_3=int(21)\n",
        "num_4=int(20)\n",
        "num_5=int(19)"
      ],
      "metadata": {
        "id": "yjTozppo_Orj"
      },
      "execution_count": 16,
      "outputs": []
    },
    {
      "cell_type": "code",
      "source": [
        "#float 5 example\n",
        "num1 = float (5.0)\n",
        "num2 = float (3.14)\n",
        "num3 = float (-2.71828)\n",
        "num4 = float(4.245)\n",
        "num5 = float(2.4)\n",
        "\n"
      ],
      "metadata": {
        "id": "Zcu8YlbcBD_c"
      },
      "execution_count": 12,
      "outputs": []
    },
    {
      "cell_type": "code",
      "source": [
        "#complex 5 example\n",
        "z = 3 + 2j\n",
        "y = 2 + 4j\n",
        "o = 1 + 2j\n",
        "u = 0 + 4j\n",
        "x = 5 + 2j\n",
        "\n",
        "\n"
      ],
      "metadata": {
        "id": "8VD9IvQcBtPt"
      },
      "execution_count": 14,
      "outputs": []
    },
    {
      "cell_type": "markdown",
      "source": [
        "**2.\tWrite example of type conversion for each ( minimum 3)**"
      ],
      "metadata": {
        "id": "ixqFLUbhDJks"
      }
    },
    {
      "cell_type": "code",
      "source": [
        "#Conversion of Data types\n",
        "# Integer to Float Conversion\n",
        "num_1 = int(50)\n",
        "num_2 = int(25)\n",
        "num_3 = int(21)\n",
        "num_4 = int(20)\n",
        "num_5 = int(19)\n",
        "\n",
        "num1 = float(num_1)\n",
        "num2 = float(num_2)\n",
        "num3 = float(num_3)\n",
        "num4 = float(num_4)\n",
        "num5 = float(num_5)\n",
        "\n",
        "# Integer to Complex Conversion\n",
        "z = complex(num_1)\n",
        "y = complex(num_2)\n",
        "o = complex(num_3)\n",
        "u = complex(num_4)\n",
        "x = complex(num_5)\n",
        "\n",
        "# Printing the results\n",
        "print(\"Integer to Float Conversions:\")\n",
        "print(\"num_1 to num1:\", num1)\n",
        "print(\"num_2 to num2:\", num2)\n",
        "print(\"num_3 to num3:\", num3)\n",
        "print(\"num_4 to num4:\", num4)\n",
        "print(\"num_5 to num5:\", num5)\n",
        "print()\n",
        "\n",
        "print(\"Integer to Complex Conversions:\")\n",
        "print(\"num_1 to z:\", z)\n",
        "print(\"num_2 to y:\", y)\n",
        "print(\"num_3 to o:\", o)\n",
        "print(\"num_4 to u:\", u)\n",
        "print(\"num_5 to x:\", x)\n",
        "\n",
        "\n",
        "\n",
        "\n",
        "\n"
      ],
      "metadata": {
        "colab": {
          "base_uri": "https://localhost:8080/"
        },
        "id": "3OPdvmm6DPwI",
        "outputId": "487f6f6f-555c-4129-f21d-ed62df5c8711"
      },
      "execution_count": 18,
      "outputs": [
        {
          "output_type": "stream",
          "name": "stdout",
          "text": [
            "Integer to Float Conversions:\n",
            "num_1 to num1: 50.0\n",
            "num_2 to num2: 25.0\n",
            "num_3 to num3: 21.0\n",
            "num_4 to num4: 20.0\n",
            "num_5 to num5: 19.0\n",
            "\n",
            "Integer to Complex Conversions:\n",
            "num_1 to z: (50+0j)\n",
            "num_2 to y: (25+0j)\n",
            "num_3 to o: (21+0j)\n",
            "num_4 to u: (20+0j)\n",
            "num_5 to x: (19+0j)\n"
          ]
        }
      ]
    },
    {
      "cell_type": "markdown",
      "source": [
        "**3.\tAssign multiple strings to single variable with your name , registration number, program , semester etc**"
      ],
      "metadata": {
        "id": "suxUBA7oIC0w"
      }
    },
    {
      "cell_type": "code",
      "source": [
        "student_info = \"Name: [Muhammad Uzair], Registration Number: [b22f1113ai111], Program: [BS Artificial intelligence], Semester: [4th ]\"\n",
        "\n",
        "print(student_info)\n"
      ],
      "metadata": {
        "colab": {
          "base_uri": "https://localhost:8080/"
        },
        "id": "yJkfM3pDIZab",
        "outputId": "4c03f178-4da3-4483-cbb4-6bf6ebdd01be"
      },
      "execution_count": 20,
      "outputs": [
        {
          "output_type": "stream",
          "name": "stdout",
          "text": [
            "Name: [Muhammad Uzair], Registration Number: [b22f1113ai111], Program: [BS Artificial intelligence], Semester: [4th ]\n"
          ]
        }
      ]
    },
    {
      "cell_type": "markdown",
      "source": [
        "**4.\tWrite Your country name and access the last 3 characters**"
      ],
      "metadata": {
        "id": "H11hwW_jIrbp"
      }
    },
    {
      "cell_type": "code",
      "source": [
        "c_name=\"Pakistan\"\n",
        "print(c_name[5:8])\n"
      ],
      "metadata": {
        "colab": {
          "base_uri": "https://localhost:8080/"
        },
        "id": "-TBnferoIu-b",
        "outputId": "504af301-8485-4d55-9628-172d2b016aea"
      },
      "execution_count": 24,
      "outputs": [
        {
          "output_type": "stream",
          "name": "stdout",
          "text": [
            "tan\n"
          ]
        }
      ]
    },
    {
      "cell_type": "markdown",
      "source": [
        "**5.\tWrite code and observe using the len() function it counts space or not.bold text**"
      ],
      "metadata": {
        "id": "ArG5zInBKB8T"
      }
    },
    {
      "cell_type": "code",
      "source": [
        "\n",
        "my_string = \"Hello, how are you?\"\n",
        "\n",
        "# Count the number of characters in the string including spaces\n",
        "length_with_spaces = len(my_string)\n",
        "\n",
        "# Count the number of characters in the string excluding spaces\n",
        "length_without_spaces = len(my_string.replace(\" \", \"\"))\n",
        "\n",
        "# Print the results\n",
        "print(\"Length of string with spaces:\", length_with_spaces)\n",
        "print(\"Length of string without spaces:\", length_without_spaces)\n"
      ],
      "metadata": {
        "colab": {
          "base_uri": "https://localhost:8080/"
        },
        "id": "d8PEog3eKHvc",
        "outputId": "77104bf2-4dcb-4241-f370-e3ef880763ed"
      },
      "execution_count": 25,
      "outputs": [
        {
          "output_type": "stream",
          "name": "stdout",
          "text": [
            "Length of string with spaces: 19\n",
            "Length of string without spaces: 16\n"
          ]
        }
      ]
    },
    {
      "cell_type": "markdown",
      "source": [
        "**6.\tWrite code to access the 2nd and 3rd character of your name using negative indexes.**"
      ],
      "metadata": {
        "id": "H0qT1sj_KrcB"
      }
    },
    {
      "cell_type": "code",
      "source": [
        "name = \"John\"\n",
        "print(name[-3:-5])\n"
      ],
      "metadata": {
        "colab": {
          "base_uri": "https://localhost:8080/"
        },
        "id": "uaPh2kbjK8X5",
        "outputId": "3b74ce2b-6cef-4ad0-de7f-46558b304855"
      },
      "execution_count": 30,
      "outputs": [
        {
          "output_type": "stream",
          "name": "stdout",
          "text": [
            "\n"
          ]
        }
      ]
    },
    {
      "cell_type": "markdown",
      "source": [
        "7.\tWrite python code in which you pass index number to format() function and arguments must be 4 and same code without indexes."
      ],
      "metadata": {
        "id": "vnE0y36gLtvH"
      }
    },
    {
      "cell_type": "code",
      "source": [
        "# Using index numbers with format() function\n",
        "formatted_with_index = \"{0} is {1} years old, and {0}'s favorite color is {2}\".format(\"Alice\", 30, \"blue\")\n",
        "\n",
        "# Without using index numbers\n",
        "formatted_without_index = \"{} is {} years old, and {}'s favorite color is {}\".format(\"Alice\", 30, \"Alice\", \"blue\")\n",
        "\n",
        "# Print the formatted strings\n",
        "print(\"Formatted with index numbers:\", formatted_with_index)\n",
        "print(\"Formatted without index numbers:\", formatted_without_index)\n"
      ],
      "metadata": {
        "colab": {
          "base_uri": "https://localhost:8080/"
        },
        "id": "0EZ0D17kLuq8",
        "outputId": "ce339825-6f75-4dc6-847f-f96f480cf783"
      },
      "execution_count": 31,
      "outputs": [
        {
          "output_type": "stream",
          "name": "stdout",
          "text": [
            "Formatted with index numbers: Alice is 30 years old, and Alice's favorite color is blue\n",
            "Formatted without index numbers: Alice is 30 years old, and Alice's favorite color is blue\n"
          ]
        }
      ]
    },
    {
      "cell_type": "markdown",
      "source": [
        "8.\tTake input from user and  than display it like “John age is: age”"
      ],
      "metadata": {
        "id": "Tqj43FYvMFZ8"
      }
    },
    {
      "cell_type": "code",
      "source": [
        "\n",
        "name = input(\"Enter your name: \")\n",
        "age = input(name+\"Enter your age: \")\n",
        "print(\"{}'s age is: {}\".format(name, age))\n"
      ],
      "metadata": {
        "colab": {
          "base_uri": "https://localhost:8080/"
        },
        "id": "uMYlCEb8MIGM",
        "outputId": "c967aad6-0e4a-4003-ae5a-9a84cdb22a97"
      },
      "execution_count": 33,
      "outputs": [
        {
          "output_type": "stream",
          "name": "stdout",
          "text": [
            "Enter your name: uzair\n",
            "uzairEnter your age: 20\n",
            "uzair's age is: 20\n"
          ]
        }
      ]
    },
    {
      "cell_type": "code",
      "source": [],
      "metadata": {
        "id": "ZQ3NhLQNMvzv"
      },
      "execution_count": null,
      "outputs": []
    }
  ]
}