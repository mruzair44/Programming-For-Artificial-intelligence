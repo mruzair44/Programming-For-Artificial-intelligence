{
  "nbformat": 4,
  "nbformat_minor": 0,
  "metadata": {
    "colab": {
      "provenance": [],
      "authorship_tag": "ABX9TyMMeJoNSrpOWPxU0AQGoQNZ",
      "include_colab_link": true
    },
    "kernelspec": {
      "name": "python3",
      "display_name": "Python 3"
    },
    "language_info": {
      "name": "python"
    }
  },
  "cells": [
    {
      "cell_type": "markdown",
      "metadata": {
        "id": "view-in-github",
        "colab_type": "text"
      },
      "source": [
        "<a href=\"https://colab.research.google.com/github/mruzair44/Programming-For-Artificial-intelligence/blob/main/Assignment_2.ipynb\" target=\"_parent\"><img src=\"https://colab.research.google.com/assets/colab-badge.svg\" alt=\"Open In Colab\"/></a>"
      ]
    },
    {
      "cell_type": "markdown",
      "source": [],
      "metadata": {
        "id": "z9yc3DaCUOdO"
      }
    },
    {
      "cell_type": "code",
      "source": [
        "def triangle_type(a, b, c):\n",
        "    if a + b <= c or a + c <= b or b + c <= a:\n",
        "        return \"Not a triangle\"\n",
        "    elif a == b == c:\n",
        "        return \"Equilateral triangle\"\n",
        "    elif a == b or b == c or a == c:\n",
        "        return \"Isosceles triangle\"\n",
        "    else:\n",
        "        return \"Scalene triangle\"\n",
        "\n",
        "def main():\n",
        "    a = float(input(\"Enter the length of the first side: \"))\n",
        "    b = float(input(\"Enter the length of the second side: \"))\n",
        "    c = float(input(\"Enter the length of the third side: \"))\n",
        "\n",
        "    triangle = triangle_type(a, b, c)\n",
        "    print(\"Triangle type:\", triangle)\n",
        "\n",
        "if __name__ == \"__main__\":\n",
        "    main()\n"
      ],
      "metadata": {
        "colab": {
          "base_uri": "https://localhost:8080/"
        },
        "id": "p3UFqYr8Ys1S",
        "outputId": "1fd6962b-712e-4dcc-a168-cdf937bd91d2"
      },
      "execution_count": null,
      "outputs": [
        {
          "output_type": "stream",
          "name": "stdout",
          "text": [
            "Enter the length of the first side: 2 \n",
            "Enter the length of the second side: 4\n",
            "Enter the length of the third side: 3\n",
            "Triangle type: Scalene triangle\n"
          ]
        }
      ]
    },
    {
      "cell_type": "code",
      "source": [
        "def display_menu():\n",
        "    print(\"Welcome to the Simple ATM Machine\")\n",
        "    print(\"1. Withdraw Money\")\n",
        "    print(\"2. Deposit Money\")\n",
        "    print(\"3. Check Balance\")\n",
        "    print(\"4. Exit\")\n",
        "\n",
        "def withdraw(balance):\n",
        "    amount = float(input(\"Enter the amount to withdraw: \"))\n",
        "    if amount > balance:\n",
        "        print(\"Insufficient balance\")\n",
        "    else:\n",
        "        balance -= amount\n",
        "        print(f\"Withdrawal successful. Remaining balance: {balance}\")\n",
        "    return balance\n",
        "\n",
        "def deposit(balance):\n",
        "    amount = float(input(\"Enter the amount to deposit: \"))\n",
        "    balance += amount\n",
        "    print(f\"Deposit successful. Updated balance: {balance}\")\n",
        "    return balance\n",
        "\n",
        "def check_balance(balance):\n",
        "    print(f\"Your current balance is: {balance}\")\n",
        "\n",
        "def main():\n",
        "    pin = '1234'\n",
        "    entered_pin = input(\"Enter your PIN: \")\n",
        "\n",
        "    if entered_pin == pin:\n",
        "        balance = 50000  # Initial balance\n",
        "        while True:\n",
        "            display_menu()\n",
        "            choice = input(\"Enter your choice: \")\n",
        "            if choice == '1':\n",
        "                balance = withdraw(balance)\n",
        "            elif choice == '2':\n",
        "                balance = deposit(balance)\n",
        "            elif choice == '3':\n",
        "                check_balance(balance)\n",
        "            elif choice == '4':\n",
        "                print(\"Thank you for using the Simple ATM Machine. Goodbye!\")\n",
        "                break\n",
        "            else:\n",
        "                print(\"Invalid choice. Please enter a valid option.\")\n",
        "    else:\n",
        "        print(\"Incorrect PIN\")\n",
        "\n",
        "if __name__ == \"__main__\":\n",
        "    main()\n"
      ],
      "metadata": {
        "colab": {
          "base_uri": "https://localhost:8080/"
        },
        "id": "QTtxj6z4ZbWs",
        "outputId": "5a93ecdd-3180-4249-d19c-d2a522546094"
      },
      "execution_count": null,
      "outputs": [
        {
          "output_type": "stream",
          "name": "stdout",
          "text": [
            "Enter your PIN: 1236\n",
            "Incorrect PIN\n"
          ]
        }
      ]
    },
    {
      "cell_type": "code",
      "source": [
        "def calculate_x(a, b, c, d):\n",
        "    try:\n",
        "        # Calculate the numerator (a^2 + b^2)\n",
        "        numerator = a**2 + b**2\n",
        "\n",
        "        # Check if the denominator (c - d) is zero\n",
        "        if c - d == 0:\n",
        "            raise ZeroDivisionError(\"Division by zero occurred in the denominator (c - d)\")\n",
        "\n",
        "        # Calculate the value of x\n",
        "        x = numerator / (c - d)\n",
        "        return x\n",
        "    except ZeroDivisionError as e:\n",
        "        print(\"Error:\", e)\n",
        "        return None\n",
        "\n",
        "def main():\n",
        "    # Input\n",
        "    a = int(input(\"Enter the value of a: \"))\n",
        "    b = int(input(\"Enter the value of b: \"))\n",
        "    c = int(input(\"Enter the value of c: \"))\n",
        "    d = int(input(\"Enter the value of d: \"))\n",
        "\n",
        "    # Calculate x and handle division by zero gracefully\n",
        "    x = calculate_x(a, b, c, d)\n",
        "    if x is not None:\n",
        "        print(\"Value of x:\", x)\n",
        "\n",
        "if __name__ == \"__main__\":\n",
        "    main()\n"
      ],
      "metadata": {
        "id": "4Yu21uBVZ0Nf",
        "colab": {
          "base_uri": "https://localhost:8080/"
        },
        "outputId": "264248d0-f9f9-4794-97be-9e837a8535c1"
      },
      "execution_count": null,
      "outputs": [
        {
          "output_type": "stream",
          "name": "stdout",
          "text": [
            "Enter the value of a: 4\n",
            "Enter the value of b: 8\n",
            "Enter the value of c: 8\n",
            "Enter the value of d: 4\n",
            "Value of x: 20.0\n"
          ]
        }
      ]
    }
  ]
}