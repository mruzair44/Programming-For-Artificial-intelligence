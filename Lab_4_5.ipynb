{
  "nbformat": 4,
  "nbformat_minor": 0,
  "metadata": {
    "colab": {
      "provenance": [],
      "authorship_tag": "ABX9TyPt6RzKIixwBIPCm8gZB55W",
      "include_colab_link": true
    },
    "kernelspec": {
      "name": "python3",
      "display_name": "Python 3"
    },
    "language_info": {
      "name": "python"
    }
  },
  "cells": [
    {
      "cell_type": "markdown",
      "metadata": {
        "id": "view-in-github",
        "colab_type": "text"
      },
      "source": [
        "<a href=\"https://colab.research.google.com/github/mruzair44/Programming-For-Artificial-intelligence/blob/main/Lab_4_5.ipynb\" target=\"_parent\"><img src=\"https://colab.research.google.com/assets/colab-badge.svg\" alt=\"Open In Colab\"/></a>"
      ]
    },
    {
      "cell_type": "markdown",
      "source": [
        "**Lab Task: 4-5**"
      ],
      "metadata": {
        "id": "d7GiSQQc4q0h"
      }
    },
    {
      "cell_type": "markdown",
      "source": [
        "1.\tAccess List Items:\n",
        "•\tCreate a list of fruits.\n",
        "•\tPrint the first and last items of the list.\n"
      ],
      "metadata": {
        "id": "pBhquoDe5MW5"
      }
    },
    {
      "cell_type": "code",
      "source": [
        "fruits = [\"dates\", \"mango\", \"apple\", \"water melon\", \"Grapes\"]\n",
        "print(\"The first item is:\",fruits[0])\n",
        "print(\"The first item is:\",fruits[4])"
      ],
      "metadata": {
        "colab": {
          "base_uri": "https://localhost:8080/"
        },
        "id": "jGCg0UmX8CLL",
        "outputId": "188648df-bc48-4e39-862f-a46394f5772f"
      },
      "execution_count": null,
      "outputs": [
        {
          "output_type": "stream",
          "name": "stdout",
          "text": [
            "The first item is: dates\n",
            "The first item is: Grapes\n"
          ]
        }
      ]
    },
    {
      "cell_type": "markdown",
      "source": [
        "2.\tChange List Items:\n",
        "•\tCreate a list of colors.\n",
        "•\tChange the second item in the list to \"blue\".\n"
      ],
      "metadata": {
        "id": "EhJ5CCZT8fmL"
      }
    },
    {
      "cell_type": "code",
      "source": [
        "colors = [\"Red\", \"Green\", \"Yellow\", \"Orange\"]\n",
        "\n",
        "print(\"Original list of colors:\", colors)\n",
        "\n",
        "colors[1] = \"Blue\"\n",
        "\n",
        "print(\"Modified list of colors:\", colors)"
      ],
      "metadata": {
        "colab": {
          "base_uri": "https://localhost:8080/"
        },
        "id": "CNzcasaW8g8k",
        "outputId": "adee2517-d9d3-4d0b-9fdd-b6dadb40360d"
      },
      "execution_count": null,
      "outputs": [
        {
          "output_type": "stream",
          "name": "stdout",
          "text": [
            "Original list of colors: ['Red', 'Green', 'Yellow', 'Orange']\n",
            "Modified list of colors: ['Red', 'Blue', 'Yellow', 'Orange']\n"
          ]
        }
      ]
    },
    {
      "cell_type": "markdown",
      "source": [
        "3.\tAdd List Items:\n",
        "•\tCreate a list of numbers.\n",
        "•\tAdd the number 10 at the end of the list.\n"
      ],
      "metadata": {
        "id": "g8kD9pRa84jW"
      }
    },
    {
      "cell_type": "code",
      "source": [
        "numbers = [4, 5, 9, 10, 12]\n",
        "\n",
        "print(\"Original list of numbers:\", numbers)\n",
        "\n",
        "# Add the number 10 at the end of the list\n",
        "numbers.append(10)\n",
        "\n",
        "# Print the modified list of numbers\n",
        "print(\"Modified list of numbers:\", numbers)"
      ],
      "metadata": {
        "colab": {
          "base_uri": "https://localhost:8080/"
        },
        "id": "2Kr3ZB7s855j",
        "outputId": "6cc2fa05-644e-45f5-db16-48bcf9e17f32"
      },
      "execution_count": null,
      "outputs": [
        {
          "output_type": "stream",
          "name": "stdout",
          "text": [
            "Original list of numbers: [4, 5, 9, 10, 12]\n",
            "Modified list of numbers: [4, 5, 9, 10, 12, 10]\n"
          ]
        }
      ]
    },
    {
      "cell_type": "markdown",
      "source": [
        "4.\tRemove List Items:\n",
        "•\tCreate a list of animals.\n",
        "•\tRemove the third item from the list.\n"
      ],
      "metadata": {
        "id": "jJTDSGZs9PYr"
      }
    },
    {
      "cell_type": "code",
      "source": [
        "animals = [\"Dog\", \"Cat\", \"Rabbit\", \"Elephant\", \"Lion\"]\n",
        "\n",
        "\n",
        "print(\"Original list of animals:\", animals)\n",
        "\n",
        "# Remove the third item from the list\n",
        "del animals[2]\n",
        "\n",
        "# Print the modified list of animals\n",
        "print(\"Modified list of animals:\", animals)"
      ],
      "metadata": {
        "colab": {
          "base_uri": "https://localhost:8080/"
        },
        "id": "1NxPeAW49S0V",
        "outputId": "ce64ec9f-ab29-4e3b-96ef-bc9232b58098"
      },
      "execution_count": null,
      "outputs": [
        {
          "output_type": "stream",
          "name": "stdout",
          "text": [
            "Original list of animals: ['Dog', 'Cat', 'Rabbit', 'Elephant', 'Lion']\n",
            "Modified list of animals: ['Dog', 'Cat', 'Elephant', 'Lion']\n"
          ]
        }
      ]
    },
    {
      "cell_type": "markdown",
      "source": [
        "5.\tLoop Lists:\n",
        "•\tCreate a list of cities.\n",
        "•\tLoop through the list and print each city.\n"
      ],
      "metadata": {
        "id": "G85XW6aV-HNT"
      }
    },
    {
      "cell_type": "code",
      "source": [
        "# Create a list of cities\n",
        "cities = [\"New York\", \"London\", \"Paris\", \"Tokyo\", \"Sydney\"]\n",
        "\n",
        "# Loop through the list and print each city\n",
        "print(\"List of cities:\")\n",
        "for city in cities:\n",
        "    print(city)\n"
      ],
      "metadata": {
        "id": "23SHiSd5-7ad",
        "colab": {
          "base_uri": "https://localhost:8080/"
        },
        "outputId": "e189500b-b7fd-41a1-e5ca-f3eca4112da2"
      },
      "execution_count": 30,
      "outputs": [
        {
          "output_type": "stream",
          "name": "stdout",
          "text": [
            "List of cities:\n",
            "New York\n",
            "London\n",
            "Paris\n",
            "Tokyo\n",
            "Sydney\n"
          ]
        }
      ]
    },
    {
      "cell_type": "markdown",
      "source": [
        "6.\tList Comprehension:\n",
        "•\tCreate a list of numbers from 1 to 10.\n",
        "•\tUse list comprehension to create a new list containing the square of each number.\n"
      ],
      "metadata": {
        "id": "B4u0NgFdHS3z"
      }
    },
    {
      "cell_type": "code",
      "source": [
        "# Create a list of numbers from 1 to 10\n",
        "numbers = list(range(1, 11))\n",
        "\n",
        "# Use list comprehension to create a new list containing the square of each number\n",
        "squares = [num ** 2 for num in numbers]\n",
        "\n",
        "# Print the original list of numbers\n",
        "print(\"Original list of numbers:\", numbers)\n",
        "\n",
        "# Print the list containing the square of each number\n",
        "print(\"List of squares:\", squares)\n"
      ],
      "metadata": {
        "colab": {
          "base_uri": "https://localhost:8080/"
        },
        "id": "JGQmGrN_HY8B",
        "outputId": "4960ef96-0b7c-44eb-8aff-2fad3d646c42"
      },
      "execution_count": 31,
      "outputs": [
        {
          "output_type": "stream",
          "name": "stdout",
          "text": [
            "Original list of numbers: [1, 2, 3, 4, 5, 6, 7, 8, 9, 10]\n",
            "List of squares: [1, 4, 9, 16, 25, 36, 49, 64, 81, 100]\n"
          ]
        }
      ]
    },
    {
      "cell_type": "markdown",
      "source": [
        "7.\tSort Lists:\n",
        "•\tCreate a list of names.\n",
        "•\tSort the list alphabetically.\n"
      ],
      "metadata": {
        "id": "zrHsV3BdHjrl"
      }
    },
    {
      "cell_type": "code",
      "source": [
        "# Create a list of names\n",
        "names = [\"Emma\", \"John\", \"Sophia\", \"Michael\", \"Olivia\"]\n",
        "\n",
        "# Sort the list alphabetically\n",
        "sorted_names = sorted(names)\n",
        "\n",
        "# Print the original list of names\n",
        "print(\"Original list of names:\", names)\n",
        "\n",
        "# Print the sorted list of names\n",
        "print(\"Sorted list of names:\", sorted_names)\n"
      ],
      "metadata": {
        "colab": {
          "base_uri": "https://localhost:8080/"
        },
        "id": "AV07T5QYHlu4",
        "outputId": "c2664a17-f7d1-454c-ca1e-c8ae75ac4386"
      },
      "execution_count": 32,
      "outputs": [
        {
          "output_type": "stream",
          "name": "stdout",
          "text": [
            "Original list of names: ['Emma', 'John', 'Sophia', 'Michael', 'Olivia']\n",
            "Sorted list of names: ['Emma', 'John', 'Michael', 'Olivia', 'Sophia']\n"
          ]
        }
      ]
    },
    {
      "cell_type": "markdown",
      "source": [
        "8.\tCopy Lists:\n",
        "•\tCreate a list of fruits.\n",
        "•\tCopy the list into a new list.\n"
      ],
      "metadata": {
        "id": "i8MbqZ9rH_2I"
      }
    },
    {
      "cell_type": "code",
      "source": [
        "# Create a list of fruits\n",
        "fruits = [\"Apple\", \"Banana\", \"Orange\", \"Mango\", \"Grapes\"]\n",
        "\n",
        "# Copy the list into a new list using slicing\n",
        "copied_fruits = fruits[0:5]\n",
        "\n",
        "# Print both lists\n",
        "print(\"Original list of fruits:\", fruits)\n",
        "print(\"Copied list of fruits:\", copied_fruits)\n"
      ],
      "metadata": {
        "colab": {
          "base_uri": "https://localhost:8080/"
        },
        "id": "tc25H0MmIKmi",
        "outputId": "b56f48ad-104d-4359-8151-0101ff61c558"
      },
      "execution_count": 33,
      "outputs": [
        {
          "output_type": "stream",
          "name": "stdout",
          "text": [
            "Original list of fruits: ['Apple', 'Banana', 'Orange', 'Mango', 'Grapes']\n",
            "Copied list of fruits: ['Apple', 'Banana', 'Orange', 'Mango', 'Grapes']\n"
          ]
        }
      ]
    },
    {
      "cell_type": "markdown",
      "source": [
        "9.\tJoin Lists:\n",
        "•\tCreate two lists of numbers.\n",
        "•\tJoin the two lists into a single list.\n"
      ],
      "metadata": {
        "id": "0DxMz1ocIPtr"
      }
    },
    {
      "cell_type": "code",
      "source": [
        "\n",
        "# Create two lists of numbers\n",
        "list1 = [1, 2, 3]\n",
        "list2 = [4, 5, 6]\n",
        "\n",
        "# Join the two lists into a single list using the + operator\n",
        "joined_list = list1 + list2\n",
        "\n",
        "# Print the joined list\n",
        "print(\"Joined list:\", joined_list)\n"
      ],
      "metadata": {
        "colab": {
          "base_uri": "https://localhost:8080/"
        },
        "id": "-8hSZMMsIVWw",
        "outputId": "7ffefc6e-b353-484c-8e36-e27324f66089"
      },
      "execution_count": 34,
      "outputs": [
        {
          "output_type": "stream",
          "name": "stdout",
          "text": [
            "Joined list: [1, 2, 3, 4, 5, 6]\n"
          ]
        }
      ]
    },
    {
      "cell_type": "markdown",
      "source": [
        "10.\tList Methods:\n",
        "•\tCreate a list of fruits.\n",
        "•\tUse the append() method to add a new fruit to the list.\n",
        "•\tUse the pop() method to remove the last fruit from the list.\n"
      ],
      "metadata": {
        "id": "SHODj2SJIfSx"
      }
    },
    {
      "cell_type": "code",
      "source": [
        "# Create a list of fruits\n",
        "fruits = [\"Apple\", \"Banana\", \"Orange\", \"Mango\"]\n",
        "\n",
        "# Print the original list of fruits\n",
        "print(\"Original list of fruits:\", fruits)\n",
        "\n",
        "# Use the append() method to add a new fruit to the list\n",
        "fruits.append(\"Grapes\")\n",
        "\n",
        "# Print the list after adding a new fruit\n",
        "print(\"List of fruits after adding 'Grapes':\", fruits)\n",
        "\n",
        "# Use the pop() method to remove the last fruit from the list\n",
        "removed_fruit = fruits.pop()\n",
        "\n",
        "# Print the removed fruit and the updated list of fruits\n",
        "print(\"Removed fruit:\", removed_fruit)\n",
        "print(\"List of fruits after removing the last one:\", fruits)\n"
      ],
      "metadata": {
        "colab": {
          "base_uri": "https://localhost:8080/"
        },
        "id": "ffQX-UfUIgk1",
        "outputId": "46473f29-6f91-46c2-83fa-311623440340"
      },
      "execution_count": 35,
      "outputs": [
        {
          "output_type": "stream",
          "name": "stdout",
          "text": [
            "Original list of fruits: ['Apple', 'Banana', 'Orange', 'Mango']\n",
            "List of fruits after adding 'Grapes': ['Apple', 'Banana', 'Orange', 'Mango', 'Grapes']\n",
            "Removed fruit: Grapes\n",
            "List of fruits after removing the last one: ['Apple', 'Banana', 'Orange', 'Mango']\n"
          ]
        }
      ]
    },
    {
      "cell_type": "markdown",
      "source": [
        "11.\tCombining Lists and List Comprehension:\n",
        "\n",
        "•\tCreate two lists, one containing numbers from 1 to 5 and another containing numbers from 6 to 10.\n",
        "•\tUse list comprehension to create a new list that contains the sum of corresponding elements from the two lists.\n"
      ],
      "metadata": {
        "id": "XcGFNtAEImpD"
      }
    },
    {
      "cell_type": "code",
      "source": [
        "# Create two lists containing numbers from 1 to 5 and 6 to 10\n",
        "list1 = [1, 2, 3, 4, 5]\n",
        "list2 = [6, 7, 8, 9, 10]\n",
        "\n",
        "# Use list comprehension to create a new list containing the sum of corresponding elements\n",
        "sum_list = [x + y for x, y in zip(list1, list2)]\n",
        "\n",
        "# Print the original lists and the new list with the sums\n",
        "print(\"List 1:\", list1)\n",
        "print(\"List 2:\", list2)\n",
        "print(\"List containing the sum of corresponding elements:\", sum_list)\n"
      ],
      "metadata": {
        "id": "zXKP4Aq2IpZ0"
      },
      "execution_count": null,
      "outputs": []
    },
    {
      "cell_type": "markdown",
      "source": [
        "12.\tFiltering and Sorting:\n",
        "Create a list of numbers.\n",
        "•\tUse list comprehension to create a new list containing only the even numbers from the original list.\n",
        "•\tSort the new list in descending order.\n"
      ],
      "metadata": {
        "id": "PSSMnOzUIufp"
      }
    },
    {
      "cell_type": "code",
      "source": [
        "# Create a list of numbers\n",
        "numbers = [23, 4, 17, 8, 12, 31, 10, 6]\n",
        "\n",
        "# Use list comprehension to create a new list containing only the even numbers\n",
        "even_numbers = [num for num in numbers if num % 2 == 0]\n",
        "\n",
        "# Sort the new list in descending order\n",
        "even_numbers.sort(reverse=True)\n",
        "\n",
        "# Print the original list of numbers\n",
        "print(\"Original list of numbers:\", numbers)\n",
        "\n",
        "# Print the new list containing only even numbers sorted in descending order\n",
        "print(\"Even numbers sorted in descending order:\", even_numbers)\n"
      ],
      "metadata": {
        "colab": {
          "base_uri": "https://localhost:8080/"
        },
        "id": "nUaR2E24IvY3",
        "outputId": "abe9bc4d-6f0b-4a6e-bd1e-b6570c0a52cf"
      },
      "execution_count": 36,
      "outputs": [
        {
          "output_type": "stream",
          "name": "stdout",
          "text": [
            "Original list of numbers: [23, 4, 17, 8, 12, 31, 10, 6]\n",
            "Even numbers sorted in descending order: [12, 10, 8, 6, 4]\n"
          ]
        }
      ]
    },
    {
      "cell_type": "code",
      "source": [],
      "metadata": {
        "id": "GKfpm2WgIxlf"
      },
      "execution_count": null,
      "outputs": []
    }
  ]
}