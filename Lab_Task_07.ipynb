{
  "nbformat": 4,
  "nbformat_minor": 0,
  "metadata": {
    "colab": {
      "provenance": [],
      "authorship_tag": "ABX9TyP6878pPJLxfZgJPo+xXron",
      "include_colab_link": true
    },
    "kernelspec": {
      "name": "python3",
      "display_name": "Python 3"
    },
    "language_info": {
      "name": "python"
    }
  },
  "cells": [
    {
      "cell_type": "markdown",
      "metadata": {
        "id": "view-in-github",
        "colab_type": "text"
      },
      "source": [
        "<a href=\"https://colab.research.google.com/github/mruzair44/Programming-For-Artificial-intelligence/blob/main/Lab_Task_07.ipynb\" target=\"_parent\"><img src=\"https://colab.research.google.com/assets/colab-badge.svg\" alt=\"Open In Colab\"/></a>"
      ]
    },
    {
      "cell_type": "markdown",
      "source": [
        "Task 1:\n",
        "Write a code to assign grades (D, C, B, A) to students based solely on their marks, which include 40, 60, 80, and 90, using only if conditions."
      ],
      "metadata": {
        "id": "MVHrTUWK3Lzq"
      }
    },
    {
      "cell_type": "code",
      "source": [
        "marks = 90\n",
        "\n",
        "if marks >= 90:\n",
        "    grade = 'A'\n",
        "    print(f\"Grade: {grade}\")\n",
        "\n",
        "if marks >= 80:\n",
        "    grade = 'B+'\n",
        "    print(f\"Grade: {grade}\")\n",
        "\n",
        "if marks >= 70:\n",
        "    grade = 'C+'\n",
        "    print(f\"Grade: {grade}\")\n",
        "\n",
        "if marks >= 60:\n",
        "    grade = 'D'\n",
        "    print(f\"Grade: {grade}\")\n"
      ],
      "metadata": {
        "colab": {
          "base_uri": "https://localhost:8080/"
        },
        "id": "B1emGWPC3RDH",
        "outputId": "952ecf92-630c-4f83-f00c-fc7465e7bd04"
      },
      "execution_count": 16,
      "outputs": [
        {
          "output_type": "stream",
          "name": "stdout",
          "text": [
            "Grade: A\n",
            "Grade: B+\n",
            "Grade: C+\n",
            "Grade: D\n"
          ]
        }
      ]
    },
    {
      "cell_type": "markdown",
      "source": [
        "Task 2: what is comparison Operator"
      ],
      "metadata": {
        "id": "szWNlLi64TBb"
      }
    },
    {
      "cell_type": "markdown",
      "source": [
        "Answer:Comparison operators are used in programming to compare two values or expressions. They return a boolean value (True or False) based on the comparison result. Here are the common comparison operators:\n",
        "\n",
        "1. Equal to (==): Checks if two values are equal.\n",
        "2. Not equal to (!=): Checks if two values are not equal.\n",
        "3. Greater than (>): Checks if the left operand is greater than the right operand.\n",
        "4. Less than (<): Checks if the left operand is less than the right operand.\n",
        "5. Greater than or equal to (>=): Checks if the left operand is greater than or equal to the right operand.\n",
        "6. Less than or equal to (<=): Checks if the left operand is less than or equal to the right operand.\n",
        "\n",
        "For example:\n",
        "- `5 == 5` evaluates to True because 5 is equal to 5.\n",
        "- `10 != 5` evaluates to True because 10 is not equal to 5.\n",
        "- `10 > 5` evaluates to True because 10 is greater than 5.\n",
        "- `5 < 10` evaluates to True because 5 is less than 10.\n",
        "- `10 >= 10` evaluates to True because 10 is greater than or equal to 10.\n",
        "- `5 <= 10` evaluates to True because 5 is less than or equal to 10."
      ],
      "metadata": {
        "id": "yK_n7Oq_4Y4F"
      }
    },
    {
      "cell_type": "code",
      "source": [
        "# Examples of comparison operators\n",
        "print(\"Examples of comparison operators:\")\n",
        "\n",
        "# Equal to (==)\n",
        "print(\"5 == 5:\", 5 == 5)  # True\n",
        "\n",
        "# Not equal to (!=)\n",
        "print(\"10 != 5:\", 10 != 5)  # True\n",
        "\n",
        "# Greater than (>)\n",
        "print(\"10 > 5:\", 10 > 5)  # True\n",
        "\n",
        "# Less than (<)\n",
        "print(\"5 < 10:\", 5 < 10)  # True\n",
        "\n",
        "# Greater than or equal to (>=)\n",
        "print(\"10 >= 10:\", 10 >= 10)  # True\n",
        "\n",
        "# Less than or equal to (<=)\n",
        "print(\"5 <= 10:\", 5 <= 10)  # True\n"
      ],
      "metadata": {
        "colab": {
          "base_uri": "https://localhost:8080/"
        },
        "id": "Ej5Xw-Hi4eNy",
        "outputId": "6f9ff995-ff29-4843-9f18-23286a054739"
      },
      "execution_count": 17,
      "outputs": [
        {
          "output_type": "stream",
          "name": "stdout",
          "text": [
            "Examples of comparison operators:\n",
            "5 == 5: True\n",
            "10 != 5: True\n",
            "10 > 5: True\n",
            "5 < 10: True\n",
            "10 >= 10: True\n",
            "5 <= 10: True\n"
          ]
        }
      ]
    },
    {
      "cell_type": "markdown",
      "source": [
        "Task 3:\n",
        "Nested if condition"
      ],
      "metadata": {
        "id": "BcLP0c7F5HF2"
      }
    },
    {
      "cell_type": "code",
      "source": [
        "marks = 90\n",
        "\n",
        "if marks >= 90:\n",
        "    grade = 'A'\n",
        "    print(f\"Grade: {grade}\")\n",
        "else:\n",
        "    if marks >= 80:\n",
        "        grade = 'B+'\n",
        "        print(f\"Grade: {grade}\")\n",
        "    else:\n",
        "        if marks >= 70:\n",
        "            grade = 'C+'\n",
        "            print(f\"Grade: {grade}\")\n",
        "        else:\n",
        "            if marks >= 60:\n",
        "                grade = 'D'\n",
        "                print(f\"Grade: {grade}\")\n",
        "\n"
      ],
      "metadata": {
        "colab": {
          "base_uri": "https://localhost:8080/"
        },
        "id": "qKfRWp9Q5dR_",
        "outputId": "93a7ae65-50bc-492b-f644-79ebc81e31c1"
      },
      "execution_count": 21,
      "outputs": [
        {
          "output_type": "stream",
          "name": "stdout",
          "text": [
            "Grade: A\n"
          ]
        }
      ]
    },
    {
      "cell_type": "markdown",
      "source": [
        "Task 4:using if-else condition to allot a classroom or a lecture theatre based on the strength of students."
      ],
      "metadata": {
        "id": "_8evDGu56Ug6"
      }
    },
    {
      "cell_type": "code",
      "source": [
        "# Get the strength of students\n",
        "strength = int(input(\"Enter the strength of students: \"))\n",
        "\n",
        "# Allot classroom or lecture theatre based on the strength\n",
        "if strength <= 40:\n",
        "    room = \"Classroom\"\n",
        "else:\n",
        "    room = \"Lecture Theatre\"\n",
        "\n",
        "# Display the allotted room\n",
        "print(f\"The allotted room is: {room}\")\n"
      ],
      "metadata": {
        "colab": {
          "base_uri": "https://localhost:8080/"
        },
        "id": "KQzpZAsF6Xg6",
        "outputId": "5fd29af4-4342-4a7b-b2d9-f8e8c8e41a03"
      },
      "execution_count": 23,
      "outputs": [
        {
          "output_type": "stream",
          "name": "stdout",
          "text": [
            "Enter the strength of students: 60\n",
            "The allotted room is: Lecture Theatre\n"
          ]
        }
      ]
    },
    {
      "cell_type": "markdown",
      "source": [
        "Task 5: Use Nested else condition"
      ],
      "metadata": {
        "id": "dSo8pi9_8PIK"
      }
    },
    {
      "cell_type": "code",
      "source": [
        "# Get the strength of students\n",
        "strength = int(input(\"Enter the strength of students: \"))\n",
        "\n",
        "# Allot classroom or lecture theatre based on the strength\n",
        "if strength <= 40:\n",
        "    room = \"Classroom\"\n",
        "else:\n",
        "    if strength > 40:\n",
        "        room = \"Lecture Theatre\"\n",
        "\n",
        "# Display the allotted room\n",
        "print(f\"The allotted room is: {room}\")\n"
      ],
      "metadata": {
        "colab": {
          "base_uri": "https://localhost:8080/"
        },
        "id": "-iWUVjrn86Ut",
        "outputId": "78b8a7f7-5fac-4262-ac96-b1d91f0e6845"
      },
      "execution_count": 25,
      "outputs": [
        {
          "output_type": "stream",
          "name": "stdout",
          "text": [
            "Enter the strength of students: 60\n",
            "The allotted room is: Lecture Theatre\n"
          ]
        }
      ]
    },
    {
      "cell_type": "code",
      "source": [],
      "metadata": {
        "id": "FP-aFddm87Ln"
      },
      "execution_count": null,
      "outputs": []
    }
  ]
}